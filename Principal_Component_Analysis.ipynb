{
  "nbformat": 4,
  "nbformat_minor": 0,
  "metadata": {
    "colab": {
      "provenance": [],
      "authorship_tag": "ABX9TyOLvZEW/U5qafMWj4JYOmZW",
      "include_colab_link": true
    },
    "kernelspec": {
      "name": "python3",
      "display_name": "Python 3"
    },
    "language_info": {
      "name": "python"
    }
  },
  "cells": [
    {
      "cell_type": "markdown",
      "metadata": {
        "id": "view-in-github",
        "colab_type": "text"
      },
      "source": [
        "<a href=\"https://colab.research.google.com/github/AshmithaMB/ML-hands-on/blob/main/Principal_Component_Analysis.ipynb\" target=\"_parent\"><img src=\"https://colab.research.google.com/assets/colab-badge.svg\" alt=\"Open In Colab\"/></a>"
      ]
    },
    {
      "cell_type": "markdown",
      "source": [
        "* The data file train.csv contains gray-scale images of hand-drawn digits, from zero through nine.\n",
        "\n",
        "* Each image is 28 pixels in height and 28 pixels in width, for a total of 784 pixels in total. Each pixel has a single pixel-value associated with it, indicating the lightness or darkness of that pixel, with higher numbers meaning darker. This pixel-value is an integer between 0 and 255, inclusive.\n",
        "\n",
        "* The training data set, (train.csv), has 785 columns. The first column, called \"label\", is the digit that was drawn by the user. The rest of the columns contain the pixel-values of the associated image."
      ],
      "metadata": {
        "id": "GSq8kWU_U49i"
      }
    },
    {
      "cell_type": "markdown",
      "source": [
        "* Dataset Link - https://www.kaggle.com/c/digit-recognizer/data?select=train.csv"
      ],
      "metadata": {
        "id": "eFyY5vWqUIUL"
      }
    },
    {
      "cell_type": "code",
      "execution_count": null,
      "metadata": {
        "id": "VrWSDod6Tr83"
      },
      "outputs": [],
      "source": [
        "import numpy as np\n",
        "import pandas as pd\n",
        "import matplotlib.pyplot as plt"
      ]
    },
    {
      "cell_type": "code",
      "source": [
        "digit = pd.read_csv(\"train.csv\")"
      ],
      "metadata": {
        "id": "Lx2RdkSaUc6H"
      },
      "execution_count": null,
      "outputs": []
    },
    {
      "cell_type": "code",
      "source": [
        "print(digit.head(5))"
      ],
      "metadata": {
        "colab": {
          "base_uri": "https://localhost:8080/"
        },
        "id": "H_Rm4mndUrom",
        "outputId": "7c7de462-4b2f-4787-e8c6-b95f4c8dc5ba"
      },
      "execution_count": null,
      "outputs": [
        {
          "output_type": "stream",
          "name": "stdout",
          "text": [
            "   label  pixel0  pixel1  pixel2  pixel3  pixel4  pixel5  pixel6  pixel7  \\\n",
            "0      1       0       0       0       0       0       0       0       0   \n",
            "1      0       0       0       0       0       0       0       0       0   \n",
            "2      1       0       0       0       0       0       0       0       0   \n",
            "3      4       0       0       0       0       0       0       0       0   \n",
            "4      0       0       0       0       0       0       0       0       0   \n",
            "\n",
            "   pixel8  ...  pixel774  pixel775  pixel776  pixel777  pixel778  pixel779  \\\n",
            "0       0  ...       0.0       0.0       0.0       0.0       0.0       0.0   \n",
            "1       0  ...       0.0       0.0       0.0       0.0       0.0       0.0   \n",
            "2       0  ...       0.0       0.0       0.0       0.0       0.0       0.0   \n",
            "3       0  ...       0.0       0.0       0.0       0.0       0.0       0.0   \n",
            "4       0  ...       0.0       0.0       0.0       0.0       0.0       0.0   \n",
            "\n",
            "   pixel780  pixel781  pixel782  pixel783  \n",
            "0       0.0       0.0       0.0       0.0  \n",
            "1       0.0       0.0       0.0       0.0  \n",
            "2       0.0       0.0       0.0       0.0  \n",
            "3       0.0       0.0       0.0       0.0  \n",
            "4       0.0       0.0       0.0       0.0  \n",
            "\n",
            "[5 rows x 785 columns]\n"
          ]
        }
      ]
    },
    {
      "cell_type": "markdown",
      "source": [
        "* Saving the lables into the variable \"l\""
      ],
      "metadata": {
        "id": "PT0s8UziVbB_"
      }
    },
    {
      "cell_type": "code",
      "source": [
        "l = digit['label']"
      ],
      "metadata": {
        "id": "RN23s68OVapD"
      },
      "execution_count": null,
      "outputs": []
    },
    {
      "cell_type": "markdown",
      "source": [
        "* Dropping the label feature from digit \n",
        "* Storing the pixel data in d"
      ],
      "metadata": {
        "id": "VwNJ-nGgVqAP"
      }
    },
    {
      "cell_type": "code",
      "source": [
        "d = digit.drop(\"label\", axis = 1)"
      ],
      "metadata": {
        "id": "5kftR3kaUvtn"
      },
      "execution_count": null,
      "outputs": []
    },
    {
      "cell_type": "code",
      "source": [
        "d.shape"
      ],
      "metadata": {
        "colab": {
          "base_uri": "https://localhost:8080/"
        },
        "id": "L5_EIFKSWFHo",
        "outputId": "ddd72719-e0f0-4bcb-ba0c-485453fb71a1"
      },
      "execution_count": null,
      "outputs": [
        {
          "output_type": "execute_result",
          "data": {
            "text/plain": [
              "(17784, 784)"
            ]
          },
          "metadata": {},
          "execution_count": 12
        }
      ]
    },
    {
      "cell_type": "code",
      "source": [
        "l.shape"
      ],
      "metadata": {
        "colab": {
          "base_uri": "https://localhost:8080/"
        },
        "id": "xXsrp5KsWQxV",
        "outputId": "2f85de08-8f09-440d-c1e4-63822ef0c5dc"
      },
      "execution_count": null,
      "outputs": [
        {
          "output_type": "execute_result",
          "data": {
            "text/plain": [
              "(17784,)"
            ]
          },
          "metadata": {},
          "execution_count": 13
        }
      ]
    },
    {
      "cell_type": "markdown",
      "source": [
        "* Printing label value with respect to its index"
      ],
      "metadata": {
        "id": "DchByj6eWlim"
      }
    },
    {
      "cell_type": "code",
      "source": [
        "indx = 1\n",
        "print(l[indx])"
      ],
      "metadata": {
        "colab": {
          "base_uri": "https://localhost:8080/"
        },
        "id": "TVyq2IQ7WRyY",
        "outputId": "3e2f1f3d-f3ee-4aca-b8d6-dfdc23be656a"
      },
      "execution_count": null,
      "outputs": [
        {
          "output_type": "stream",
          "name": "stdout",
          "text": [
            "0\n"
          ]
        }
      ]
    },
    {
      "cell_type": "markdown",
      "source": [
        "* To plot above label,"
      ],
      "metadata": {
        "id": "JnOpdSGbW9rm"
      }
    },
    {
      "cell_type": "code",
      "source": [
        "plt.figure(figsize = (7, 7))\n",
        "\n",
        "# to plot the above label which has the above mentioned index,\n",
        "# as it returns a 1D array, for the convineance of plotting,\n",
        "# reshaping it into 2D\n",
        "\n",
        "grid_data = d.loc[indx].values.reshape(28,28)\n",
        "\n",
        "plt.imshow(grid_data, interpolation = 'none', cmap = 'gray');\n"
      ],
      "metadata": {
        "colab": {
          "base_uri": "https://localhost:8080/",
          "height": 428
        },
        "id": "tvymOLR-Ws5M",
        "outputId": "da4a8892-dcbf-4f49-c8eb-90188ed434d1"
      },
      "execution_count": null,
      "outputs": [
        {
          "output_type": "display_data",
          "data": {
            "text/plain": [
              "<Figure size 504x504 with 1 Axes>"
            ],
            "image/png": "[encoded data removed]"
          },
          "metadata": {
            "needs_background": "light"
          }
        }
      ]
    },
    {
      "cell_type": "markdown",
      "source": [
        "2D Visualization with PCA"
      ],
      "metadata": {
        "id": "2O4Y51XXZD44"
      }
    },
    {
      "cell_type": "code",
      "source": [
        "labels = l.head(15000)\n",
        "data = d.head(15000)\n",
        "print(\"The shape of the data = \",data.shape)"
      ],
      "metadata": {
        "colab": {
          "base_uri": "https://localhost:8080/"
        },
        "id": "AUFZX7AEYnAi",
        "outputId": "74a58a4e-2757-4e1a-a2c5-d0348372eb04"
      },
      "execution_count": null,
      "outputs": [
        {
          "output_type": "stream",
          "name": "stdout",
          "text": [
            "The shape of the data =  (15000, 784)\n"
          ]
        }
      ]
    },
    {
      "cell_type": "markdown",
      "source": [
        "Data Preprocessing\n",
        "* Standardizing the data"
      ],
      "metadata": {
        "id": "V6CWztFbZiVC"
      }
    },
    {
      "cell_type": "code",
      "source": [
        "from sklearn.preprocessing import StandardScaler"
      ],
      "metadata": {
        "id": "DbstRBDmZcIR"
      },
      "execution_count": null,
      "outputs": []
    },
    {
      "cell_type": "code",
      "source": [
        "standardized_data = StandardScaler().fit_transform(data)"
      ],
      "metadata": {
        "id": "2GITSopoZ0HA"
      },
      "execution_count": null,
      "outputs": []
    },
    {
      "cell_type": "code",
      "source": [
        "standardized_data.shape"
      ],
      "metadata": {
        "colab": {
          "base_uri": "https://localhost:8080/"
        },
        "id": "FkMWqeUyaDJB",
        "outputId": "fd394176-e70c-44a2-be29-5eaac3e2f39e"
      },
      "execution_count": null,
      "outputs": [
        {
          "output_type": "execute_result",
          "data": {
            "text/plain": [
              "(15000, 784)"
            ]
          },
          "metadata": {},
          "execution_count": 43
        }
      ]
    },
    {
      "cell_type": "markdown",
      "source": [
        "Finding the Co-Variance Matrix\n",
        "* A * A^T"
      ],
      "metadata": {
        "id": "WcpZQ4V8aljP"
      }
    },
    {
      "cell_type": "markdown",
      "source": [
        "* Positive Co-Variance = Both the dimensions are directly proportional to each other (if one increases the other increases)\n",
        "* Negative Co-Variance = Both the dimensions are indirectly proportional to each other (if one increases the other decreases)\n",
        "* Zero Co-Variance = Two dimensions are independent of each other"
      ],
      "metadata": {
        "id": "JeI6aIFtarSM"
      }
    },
    {
      "cell_type": "code",
      "source": [
        "sample_data = standardized_data"
      ],
      "metadata": {
        "id": "I4pgTlXvaQDu"
      },
      "execution_count": null,
      "outputs": []
    },
    {
      "cell_type": "markdown",
      "source": [
        "* Matrix multiplication using NumPy to find Co-Variance Matrix"
      ],
      "metadata": {
        "id": "ftgBkTdVbwXr"
      }
    },
    {
      "cell_type": "code",
      "source": [
        "CoVarianceMatrix = np.matmul(sample_data.T, sample_data)"
      ],
      "metadata": {
        "id": "R61qPNbqbgR5"
      },
      "execution_count": null,
      "outputs": []
    },
    {
      "cell_type": "code",
      "source": [
        "CoVarianceMatrix.shape"
      ],
      "metadata": {
        "colab": {
          "base_uri": "https://localhost:8080/"
        },
        "id": "6k9szTXtcMUR",
        "outputId": "23b837f2-02d7-4229-974c-aa2b32551a4e"
      },
      "execution_count": null,
      "outputs": [
        {
          "output_type": "execute_result",
          "data": {
            "text/plain": [
              "(784, 784)"
            ]
          },
          "metadata": {},
          "execution_count": 46
        }
      ]
    },
    {
      "cell_type": "markdown",
      "source": [
        "Computing EigenVectors and EigenValues\n",
        "* The EigenVectors (Principal Components) and EigenValues of a CoVariance Matrix represent the \"core\" of a PCA\n",
        "* The EigenVectors determine the directions of the new feature space\n",
        "* The EigenValues explain the variance of the data along the new feature axes (magnitude)\n",
        "* These both together give the principal components and a vector that we can use to project high-dimensional inputs to the lower-dimentional subspace."
      ],
      "metadata": {
        "id": "t38haf6ShI_9"
      }
    },
    {
      "cell_type": "code",
      "source": [
        "from scipy.linalg import eigh"
      ],
      "metadata": {
        "id": "IWEO4XKscXAK"
      },
      "execution_count": null,
      "outputs": []
    },
    {
      "cell_type": "code",
      "source": [
        "values, vectors = eigh(CoVarianceMatrix, eigvals = (782, 783))\n",
        "vectors.shape"
      ],
      "metadata": {
        "colab": {
          "base_uri": "https://localhost:8080/"
        },
        "id": "7XFUFrf9i6IH",
        "outputId": "3b2914f2-1df7-41a1-ff2f-fcc1bd117f53"
      },
      "execution_count": null,
      "outputs": [
        {
          "output_type": "execute_result",
          "data": {
            "text/plain": [
              "(784, 2)"
            ]
          },
          "metadata": {},
          "execution_count": 49
        }
      ]
    },
    {
      "cell_type": "markdown",
      "source": [
        "* 'eigvals' is defined (low value to high value)\n",
        "* eigh function will return eigen values in ascending order\n",
        "* This code will generate only top 2 (782, 783) eigen values."
      ],
      "metadata": {
        "id": "R8W1AfjsjfKU"
      }
    },
    {
      "cell_type": "code",
      "source": [
        "vectors = vectors.T"
      ],
      "metadata": {
        "id": "Vq0L42Vik1VB"
      },
      "execution_count": null,
      "outputs": []
    },
    {
      "cell_type": "code",
      "source": [
        "new_coordinates = np.matmul(vectors, sample_data.T)"
      ],
      "metadata": {
        "id": "JCJQuiRllA3N"
      },
      "execution_count": null,
      "outputs": []
    },
    {
      "cell_type": "code",
      "source": [
        "new_coordinates.shape"
      ],
      "metadata": {
        "colab": {
          "base_uri": "https://localhost:8080/"
        },
        "id": "ITS7tuqEl2Fk",
        "outputId": "bf780844-9c76-4fe3-f7c7-fa43638bb245"
      },
      "execution_count": null,
      "outputs": [
        {
          "output_type": "execute_result",
          "data": {
            "text/plain": [
              "(2, 15000)"
            ]
          },
          "metadata": {},
          "execution_count": 60
        }
      ]
    }
  ]
}